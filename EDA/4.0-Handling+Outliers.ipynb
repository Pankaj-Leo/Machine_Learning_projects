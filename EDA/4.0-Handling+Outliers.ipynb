{
 "cells": [
  {
   "cell_type": "markdown",
   "id": "9a0268f0-ef24-4a91-829d-a349856a40bf",
   "metadata": {},
   "source": [
    "## 5 number Summary And Box Plot"
   ]
  },
  {
   "cell_type": "code",
   "execution_count": 1,
   "id": "8b07cdf2-c8ee-4078-b906-89735d4d2789",
   "metadata": {},
   "outputs": [],
   "source": [
    "## Minimum,MAximum,Median,Q1,Q3,IQR"
   ]
  },
  {
   "cell_type": "code",
   "id": "ec419cc5-7f01-448a-b140-5bb57b463336",
   "metadata": {
    "ExecuteTime": {
     "end_time": "2025-04-05T16:22:02.382576Z",
     "start_time": "2025-04-05T16:22:02.380894Z"
    }
   },
   "source": [
    "import numpy as np"
   ],
   "outputs": [],
   "execution_count": 1
  },
  {
   "cell_type": "code",
   "id": "f5ad4dc0-f110-44fc-acd7-0e70e6feece7",
   "metadata": {
    "ExecuteTime": {
     "end_time": "2025-04-05T16:22:04.785288Z",
     "start_time": "2025-04-05T16:22:04.781167Z"
    }
   },
   "source": [
    "lst_marks=[45,32,56,75,89,54,32,89,90,87,67,54,45,98,99,67,74]\n",
    "minimum,Q1,median,Q3,maximum=np.quantile(lst_marks,[0,0.25,0.50,0.75,1.0])"
   ],
   "outputs": [],
   "execution_count": 2
  },
  {
   "cell_type": "code",
   "execution_count": 8,
   "id": "0dbbfee2-dfae-458d-a2ab-e1eb3e4cffed",
   "metadata": {},
   "outputs": [
    {
     "data": {
      "text/plain": [
       "(32.0, 54.0, 67.0, 89.0, 99.0)"
      ]
     },
     "execution_count": 8,
     "metadata": {},
     "output_type": "execute_result"
    }
   ],
   "source": [
    "minimum,Q1,median,Q3,maximum"
   ]
  },
  {
   "cell_type": "code",
   "id": "dc9f9703-3fe8-419c-ba76-28fa48cf5d17",
   "metadata": {
    "ExecuteTime": {
     "end_time": "2025-04-05T16:22:30.323034Z",
     "start_time": "2025-04-05T16:22:30.320158Z"
    }
   },
   "source": [
    "IQR=Q3-Q1\n",
    "print(IQR)"
   ],
   "outputs": [
    {
     "name": "stdout",
     "output_type": "stream",
     "text": [
      "35.0\n"
     ]
    }
   ],
   "execution_count": 3
  },
  {
   "cell_type": "code",
   "id": "e9a4c199-8a0c-4ff0-aa5d-43e8c39ef9ec",
   "metadata": {
    "ExecuteTime": {
     "end_time": "2025-04-05T16:22:44.299563Z",
     "start_time": "2025-04-05T16:22:44.297024Z"
    }
   },
   "source": [
    "lower_fence=Q1-1.5*(IQR)\n",
    "higher_fence=Q3+1.5*(IQR)\n"
   ],
   "outputs": [],
   "execution_count": 5
  },
  {
   "cell_type": "code",
   "id": "14b431fb-70e0-4b64-8c30-03cc62e223d6",
   "metadata": {
    "ExecuteTime": {
     "end_time": "2025-04-05T16:22:47.755880Z",
     "start_time": "2025-04-05T16:22:47.750828Z"
    }
   },
   "source": [
    "lower_fence"
   ],
   "outputs": [
    {
     "data": {
      "text/plain": [
       "1.5"
      ]
     },
     "execution_count": 6,
     "metadata": {},
     "output_type": "execute_result"
    }
   ],
   "execution_count": 6
  },
  {
   "cell_type": "code",
   "id": "a1e02d6e-4c55-4244-a86a-896d90d30f60",
   "metadata": {
    "ExecuteTime": {
     "end_time": "2025-04-05T16:22:54.255261Z",
     "start_time": "2025-04-05T16:22:54.252264Z"
    }
   },
   "source": [
    "higher_fence"
   ],
   "outputs": [
    {
     "data": {
      "text/plain": [
       "141.5"
      ]
     },
     "execution_count": 7,
     "metadata": {},
     "output_type": "execute_result"
    }
   ],
   "execution_count": 7
  },
  {
   "cell_type": "code",
   "id": "b9f977b8-6f08-4a34-adea-9c141902af42",
   "metadata": {
    "ExecuteTime": {
     "end_time": "2025-04-05T16:22:55.656277Z",
     "start_time": "2025-04-05T16:22:55.652868Z"
    }
   },
   "source": [
    "lst_marks=[45,32,56,75,89,54,32,89,90,87,67,54,45,98,99,67,74]"
   ],
   "outputs": [],
   "execution_count": 8
  },
  {
   "cell_type": "code",
   "id": "73c5492b-2fff-47b6-9c59-369db982a50f",
   "metadata": {
    "ExecuteTime": {
     "end_time": "2025-04-05T16:22:56.746736Z",
     "start_time": "2025-04-05T16:22:56.745038Z"
    }
   },
   "source": [
    "import seaborn as sns"
   ],
   "outputs": [],
   "execution_count": 9
  },
  {
   "cell_type": "code",
   "id": "dd5c627a-2867-4467-82d7-6c272c279d1b",
   "metadata": {
    "ExecuteTime": {
     "end_time": "2025-04-05T16:23:00.352077Z",
     "start_time": "2025-04-05T16:23:00.239616Z"
    }
   },
   "source": [
    "sns.boxplot(lst_marks)"
   ],
   "outputs": [
    {
     "data": {
      "text/plain": [
       "<Axes: >"
      ]
     },
     "execution_count": 10,
     "metadata": {},
     "output_type": "execute_result"
    },
    {
     "data": {
      "text/plain": [
       "<Figure size 640x480 with 1 Axes>"
      ],
      "image/png": "[encoded data removed]"
     },
     "metadata": {},
     "output_type": "display_data"
    }
   ],
   "execution_count": 10
  },
  {
   "cell_type": "code",
   "id": "f2973d0b-ae24-45e7-86d0-fd8163e93185",
   "metadata": {
    "ExecuteTime": {
     "end_time": "2025-04-05T16:23:22.009965Z",
     "start_time": "2025-04-05T16:23:22.007234Z"
    }
   },
   "source": [
    "lst_marks=[-100,-200,45,32,56,75,89,54,32,89,90,87,67,54,45,98,99,67,74,150,170,180]"
   ],
   "outputs": [],
   "execution_count": 11
  },
  {
   "cell_type": "code",
   "id": "51e31dff-b00d-4132-a914-91f8a31a5605",
   "metadata": {
    "ExecuteTime": {
     "end_time": "2025-04-05T16:23:24.644593Z",
     "start_time": "2025-04-05T16:23:24.592940Z"
    }
   },
   "source": [
    "sns.boxplot(lst_marks)"
   ],
   "outputs": [
    {
     "data": {
      "text/plain": [
       "<Axes: >"
      ]
     },
     "execution_count": 12,
     "metadata": {},
     "output_type": "execute_result"
    },
    {
     "data": {
      "text/plain": [
       "<Figure size 640x480 with 1 Axes>"
      ],
      "image/png": "[encoded data removed]"
     },
     "metadata": {},
     "output_type": "display_data"
    }
   ],
   "execution_count": 12
  },
  {
   "cell_type": "code",
   "execution_count": null,
   "id": "57eff423-80d8-45ed-b8b7-50446e63faa5",
   "metadata": {},
   "outputs": [],
   "source": []
  },
  {
   "cell_type": "code",
   "execution_count": null,
   "id": "887c0cfa-4dc2-4e96-a82d-506ffadbe71e",
   "metadata": {},
   "outputs": [],
   "source": []
  }
 ],
 "metadata": {
  "kernelspec": {
   "display_name": "Python 3 (ipykernel)",
   "language": "python",
   "name": "python3"
  },
  "language_info": {
   "codemirror_mode": {
    "name": "ipython",
    "version": 3
   },
   "file_extension": ".py",
   "mimetype": "text/x-python",
   "name": "python",
   "nbconvert_exporter": "python",
   "pygments_lexer": "ipython3",
   "version": "3.10.8"
  }
 },
 "nbformat": 4,
 "nbformat_minor": 5
}
