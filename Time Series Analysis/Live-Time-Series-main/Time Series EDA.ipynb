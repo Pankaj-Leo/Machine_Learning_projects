{
 "cells": [
  {
   "cell_type": "markdown",
   "id": "91dd09ad",
   "metadata": {},
   "source": [
    "## Time Series EDA"
   ]
  },
  {
   "cell_type": "code",
   "id": "70d30d19",
   "metadata": {
    "ExecuteTime": {
     "end_time": "2025-04-16T20:28:21.442742Z",
     "start_time": "2025-04-16T20:28:20.447899Z"
    }
   },
   "source": [
    "## Install Pandas Data Reader\n",
    "!pip install pandas-datareader"
   ],
   "outputs": [
    {
     "name": "stdout",
     "output_type": "stream",
     "text": [
      "Requirement already satisfied: pandas-datareader in /opt/anaconda3/envs/leo312/lib/python3.12/site-packages (0.10.0)\r\n",
      "Requirement already satisfied: lxml in /opt/anaconda3/envs/leo312/lib/python3.12/site-packages (from pandas-datareader) (5.2.1)\r\n",
      "Requirement already satisfied: pandas>=0.23 in /opt/anaconda3/envs/leo312/lib/python3.12/site-packages (from pandas-datareader) (2.2.2)\r\n",
      "Requirement already satisfied: requests>=2.19.0 in /opt/anaconda3/envs/leo312/lib/python3.12/site-packages (from pandas-datareader) (2.32.3)\r\n",
      "Requirement already satisfied: numpy>=1.26.0 in /opt/anaconda3/envs/leo312/lib/python3.12/site-packages (from pandas>=0.23->pandas-datareader) (1.26.4)\r\n",
      "Requirement already satisfied: python-dateutil>=2.8.2 in /opt/anaconda3/envs/leo312/lib/python3.12/site-packages (from pandas>=0.23->pandas-datareader) (2.9.0.post0)\r\n",
      "Requirement already satisfied: pytz>=2020.1 in /opt/anaconda3/envs/leo312/lib/python3.12/site-packages (from pandas>=0.23->pandas-datareader) (2024.1)\r\n",
      "Requirement already satisfied: tzdata>=2022.7 in /opt/anaconda3/envs/leo312/lib/python3.12/site-packages (from pandas>=0.23->pandas-datareader) (2023.3)\r\n",
      "Requirement already satisfied: charset-normalizer<4,>=2 in /opt/anaconda3/envs/leo312/lib/python3.12/site-packages (from requests>=2.19.0->pandas-datareader) (3.3.2)\r\n",
      "Requirement already satisfied: idna<4,>=2.5 in /opt/anaconda3/envs/leo312/lib/python3.12/site-packages (from requests>=2.19.0->pandas-datareader) (3.7)\r\n",
      "Requirement already satisfied: urllib3<3,>=1.21.1 in /opt/anaconda3/envs/leo312/lib/python3.12/site-packages (from requests>=2.19.0->pandas-datareader) (2.2.3)\r\n",
      "Requirement already satisfied: certifi>=2017.4.17 in /opt/anaconda3/envs/leo312/lib/python3.12/site-packages (from requests>=2.19.0->pandas-datareader) (2025.1.31)\r\n",
      "Requirement already satisfied: six>=1.5 in /opt/anaconda3/envs/leo312/lib/python3.12/site-packages (from python-dateutil>=2.8.2->pandas>=0.23->pandas-datareader) (1.16.0)\r\n"
     ]
    }
   ],
   "execution_count": 26
  },
  {
   "cell_type": "code",
   "id": "a9aca849",
   "metadata": {
    "ExecuteTime": {
     "end_time": "2025-04-16T20:28:21.449192Z",
     "start_time": "2025-04-16T20:28:21.446926Z"
    }
   },
   "source": [
    "import pandas_datareader as pdr\n",
    "import yfinance as yf\n",
    "import pandas as pd\n",
    "from datetime import datetime"
   ],
   "outputs": [],
   "execution_count": 27
  },
  {
   "cell_type": "code",
   "id": "e044285a",
   "metadata": {
    "ExecuteTime": {
     "end_time": "2025-04-16T20:28:21.474067Z",
     "start_time": "2025-04-16T20:28:21.456902Z"
    }
   },
   "source": "df_tesla = yf.download(\"TSLA\", start=\"2020-01-01\", end=\"2023-01-01\")\n",
   "outputs": [
    {
     "name": "stderr",
     "output_type": "stream",
     "text": [
      "[*********************100%***********************]  1 of 1 completed\n"
     ]
    }
   ],
   "execution_count": 28
  },
  {
   "cell_type": "code",
   "id": "cd43450a",
   "metadata": {
    "ExecuteTime": {
     "end_time": "2025-04-16T20:28:21.484051Z",
     "start_time": "2025-04-16T20:28:21.479582Z"
    }
   },
   "source": [
    "df_tesla.tail()"
   ],
   "outputs": [
    {
     "data": {
      "text/plain": [
       "Price            Close        High         Low        Open     Volume\n",
       "Ticker            TSLA        TSLA        TSLA        TSLA       TSLA\n",
       "Date                                                                 \n",
       "2022-12-23  123.150002  128.619995  121.019997  126.370003  166989700\n",
       "2022-12-27  109.099998  119.669998  108.760002  117.500000  208643400\n",
       "2022-12-28  112.709999  116.269997  108.239998  110.349998  221070500\n",
       "2022-12-29  121.820000  123.570000  117.500000  120.389999  221923300\n",
       "2022-12-30  123.180000  124.480003  119.750000  119.949997  157777300"
      ],
      "text/html": [
       "<div>\n",
       "<style scoped>\n",
       "    .dataframe tbody tr th:only-of-type {\n",
       "        vertical-align: middle;\n",
       "    }\n",
       "\n",
       "    .dataframe tbody tr th {\n",
       "        vertical-align: top;\n",
       "    }\n",
       "\n",
       "    .dataframe thead tr th {\n",
       "        text-align: left;\n",
       "    }\n",
       "\n",
       "    .dataframe thead tr:last-of-type th {\n",
       "        text-align: right;\n",
       "    }\n",
       "</style>\n",
       "<table border=\"1\" class=\"dataframe\">\n",
       "  <thead>\n",
       "    <tr>\n",
       "      <th>Price</th>\n",
       "      <th>Close</th>\n",
       "      <th>High</th>\n",
       "      <th>Low</th>\n",
       "      <th>Open</th>\n",
       "      <th>Volume</th>\n",
       "    </tr>\n",
       "    <tr>\n",
       "      <th>Ticker</th>\n",
       "      <th>TSLA</th>\n",
       "      <th>TSLA</th>\n",
       "      <th>TSLA</th>\n",
       "      <th>TSLA</th>\n",
       "      <th>TSLA</th>\n",
       "    </tr>\n",
       "    <tr>\n",
       "      <th>Date</th>\n",
       "      <th></th>\n",
       "      <th></th>\n",
       "      <th></th>\n",
       "      <th></th>\n",
       "      <th></th>\n",
       "    </tr>\n",
       "  </thead>\n",
       "  <tbody>\n",
       "    <tr>\n",
       "      <th>2022-12-23</th>\n",
       "      <td>123.150002</td>\n",
       "      <td>128.619995</td>\n",
       "      <td>121.019997</td>\n",
       "      <td>126.370003</td>\n",
       "      <td>166989700</td>\n",
       "    </tr>\n",
       "    <tr>\n",
       "      <th>2022-12-27</th>\n",
       "      <td>109.099998</td>\n",
       "      <td>119.669998</td>\n",
       "      <td>108.760002</td>\n",
       "      <td>117.500000</td>\n",
       "      <td>208643400</td>\n",
       "    </tr>\n",
       "    <tr>\n",
       "      <th>2022-12-28</th>\n",
       "      <td>112.709999</td>\n",
       "      <td>116.269997</td>\n",
       "      <td>108.239998</td>\n",
       "      <td>110.349998</td>\n",
       "      <td>221070500</td>\n",
       "    </tr>\n",
       "    <tr>\n",
       "      <th>2022-12-29</th>\n",
       "      <td>121.820000</td>\n",
       "      <td>123.570000</td>\n",
       "      <td>117.500000</td>\n",
       "      <td>120.389999</td>\n",
       "      <td>221923300</td>\n",
       "    </tr>\n",
       "    <tr>\n",
       "      <th>2022-12-30</th>\n",
       "      <td>123.180000</td>\n",
       "      <td>124.480003</td>\n",
       "      <td>119.750000</td>\n",
       "      <td>119.949997</td>\n",
       "      <td>157777300</td>\n",
       "    </tr>\n",
       "  </tbody>\n",
       "</table>\n",
       "</div>"
      ]
     },
     "execution_count": 29,
     "metadata": {},
     "output_type": "execute_result"
    }
   ],
   "execution_count": 29
  },
  {
   "cell_type": "code",
   "id": "42b2ed0e",
   "metadata": {
    "ExecuteTime": {
     "end_time": "2025-04-16T20:28:21.562279Z",
     "start_time": "2025-04-16T20:28:21.511772Z"
    }
   },
   "source": [
    "df_tesla['High'].plot(figsize=(12,4))"
   ],
   "outputs": [
    {
     "data": {
      "text/plain": [
       "<Axes: xlabel='Date'>"
      ]
     },
     "execution_count": 30,
     "metadata": {},
     "output_type": "execute_result"
    }
   ],
   "execution_count": 30
  },
  {
   "cell_type": "code",
   "id": "2564b531",
   "metadata": {
    "ExecuteTime": {
     "end_time": "2025-04-16T20:28:21.737577Z",
     "start_time": "2025-04-16T20:28:21.675435Z"
    }
   },
   "source": [
    "## xlimit and y limit\n",
    "df_tesla['High'].plot(xlim=['2020-01-01','2021-09-01'],figsize=(12,4))"
   ],
   "outputs": [
    {
     "data": {
      "text/plain": [
       "<Axes: xlabel='Date'>"
      ]
     },
     "execution_count": 31,
     "metadata": {},
     "output_type": "execute_result"
    }
   ],
   "execution_count": 31
  },
  {
   "cell_type": "code",
   "id": "8a927152",
   "metadata": {
    "ExecuteTime": {
     "end_time": "2025-04-16T20:28:21.830294Z",
     "start_time": "2025-04-16T20:28:21.781727Z"
    }
   },
   "source": [
    "## xlimit and y limit\n",
    "df_tesla['High'].plot(xlim=['2020-01-01','2021-09-01'],ylim=[0,900],figsize=(12,4))"
   ],
   "outputs": [
    {
     "data": {
      "text/plain": [
       "<Axes: xlabel='Date'>"
      ]
     },
     "execution_count": 32,
     "metadata": {},
     "output_type": "execute_result"
    }
   ],
   "execution_count": 32
  },
  {
   "cell_type": "code",
   "id": "a1c26cc4",
   "metadata": {
    "ExecuteTime": {
     "end_time": "2025-04-16T20:28:21.873246Z",
     "start_time": "2025-04-16T20:28:21.837031Z"
    }
   },
   "source": [
    "## xlimit and y limit and coloring\n",
    "df_tesla['High'].plot(xlim=['2020-01-01','2021-09-01'],ylim=[0,900],figsize=(12,4),ls='--',c='green')"
   ],
   "outputs": [
    {
     "data": {
      "text/plain": [
       "<Axes: xlabel='Date'>"
      ]
     },
     "execution_count": 33,
     "metadata": {},
     "output_type": "execute_result"
    }
   ],
   "execution_count": 33
  },
  {
   "cell_type": "code",
   "id": "f5abbe0e",
   "metadata": {
    "ExecuteTime": {
     "end_time": "2025-04-16T20:28:21.883268Z",
     "start_time": "2025-04-16T20:28:21.880853Z"
    }
   },
   "source": [
    "df_tesla.index"
   ],
   "outputs": [
    {
     "data": {
      "text/plain": [
       "DatetimeIndex(['2020-01-02', '2020-01-03', '2020-01-06', '2020-01-07',\n",
       "               '2020-01-08', '2020-01-09', '2020-01-10', '2020-01-13',\n",
       "               '2020-01-14', '2020-01-15',\n",
       "               ...\n",
       "               '2022-12-16', '2022-12-19', '2022-12-20', '2022-12-21',\n",
       "               '2022-12-22', '2022-12-23', '2022-12-27', '2022-12-28',\n",
       "               '2022-12-29', '2022-12-30'],\n",
       "              dtype='datetime64[ns]', name='Date', length=756, freq=None)"
      ]
     },
     "execution_count": 34,
     "metadata": {},
     "output_type": "execute_result"
    }
   ],
   "execution_count": 34
  },
  {
   "cell_type": "code",
   "id": "7214bae7",
   "metadata": {
    "ExecuteTime": {
     "end_time": "2025-04-16T20:28:21.896977Z",
     "start_time": "2025-04-16T20:28:21.894104Z"
    }
   },
   "source": [
    "index=df_tesla.loc['2020-01-01':'2021-09-01'].index\n",
    "share_open=df_tesla.loc['2020-01-01':'2021-09-01']['Open']"
   ],
   "outputs": [],
   "execution_count": 35
  },
  {
   "cell_type": "code",
   "id": "7d29fec6",
   "metadata": {
    "ExecuteTime": {
     "end_time": "2025-04-16T20:28:21.918984Z",
     "start_time": "2025-04-16T20:28:21.915541Z"
    }
   },
   "source": [
    "share_open"
   ],
   "outputs": [
    {
     "data": {
      "text/plain": [
       "Ticker            TSLA\n",
       "Date                  \n",
       "2020-01-02   28.299999\n",
       "2020-01-03   29.366667\n",
       "2020-01-06   29.364668\n",
       "2020-01-07   30.760000\n",
       "2020-01-08   31.580000\n",
       "...                ...\n",
       "2021-08-26  236.103333\n",
       "2021-08-27  235.000000\n",
       "2021-08-30  238.240005\n",
       "2021-08-31  244.333328\n",
       "2021-09-01  244.693329\n",
       "\n",
       "[421 rows x 1 columns]"
      ],
      "text/html": [
       "<div>\n",
       "<style scoped>\n",
       "    .dataframe tbody tr th:only-of-type {\n",
       "        vertical-align: middle;\n",
       "    }\n",
       "\n",
       "    .dataframe tbody tr th {\n",
       "        vertical-align: top;\n",
       "    }\n",
       "\n",
       "    .dataframe thead th {\n",
       "        text-align: right;\n",
       "    }\n",
       "</style>\n",
       "<table border=\"1\" class=\"dataframe\">\n",
       "  <thead>\n",
       "    <tr style=\"text-align: right;\">\n",
       "      <th>Ticker</th>\n",
       "      <th>TSLA</th>\n",
       "    </tr>\n",
       "    <tr>\n",
       "      <th>Date</th>\n",
       "      <th></th>\n",
       "    </tr>\n",
       "  </thead>\n",
       "  <tbody>\n",
       "    <tr>\n",
       "      <th>2020-01-02</th>\n",
       "      <td>28.299999</td>\n",
       "    </tr>\n",
       "    <tr>\n",
       "      <th>2020-01-03</th>\n",
       "      <td>29.366667</td>\n",
       "    </tr>\n",
       "    <tr>\n",
       "      <th>2020-01-06</th>\n",
       "      <td>29.364668</td>\n",
       "    </tr>\n",
       "    <tr>\n",
       "      <th>2020-01-07</th>\n",
       "      <td>30.760000</td>\n",
       "    </tr>\n",
       "    <tr>\n",
       "      <th>2020-01-08</th>\n",
       "      <td>31.580000</td>\n",
       "    </tr>\n",
       "    <tr>\n",
       "      <th>...</th>\n",
       "      <td>...</td>\n",
       "    </tr>\n",
       "    <tr>\n",
       "      <th>2021-08-26</th>\n",
       "      <td>236.103333</td>\n",
       "    </tr>\n",
       "    <tr>\n",
       "      <th>2021-08-27</th>\n",
       "      <td>235.000000</td>\n",
       "    </tr>\n",
       "    <tr>\n",
       "      <th>2021-08-30</th>\n",
       "      <td>238.240005</td>\n",
       "    </tr>\n",
       "    <tr>\n",
       "      <th>2021-08-31</th>\n",
       "      <td>244.333328</td>\n",
       "    </tr>\n",
       "    <tr>\n",
       "      <th>2021-09-01</th>\n",
       "      <td>244.693329</td>\n",
       "    </tr>\n",
       "  </tbody>\n",
       "</table>\n",
       "<p>421 rows × 1 columns</p>\n",
       "</div>"
      ]
     },
     "execution_count": 36,
     "metadata": {},
     "output_type": "execute_result"
    }
   ],
   "execution_count": 36
  },
  {
   "cell_type": "code",
   "id": "a4c4cabb",
   "metadata": {
    "ExecuteTime": {
     "end_time": "2025-04-16T20:28:21.946182Z",
     "start_time": "2025-04-16T20:28:21.943226Z"
    }
   },
   "source": [
    "index"
   ],
   "outputs": [
    {
     "data": {
      "text/plain": [
       "DatetimeIndex(['2020-01-02', '2020-01-03', '2020-01-06', '2020-01-07',\n",
       "               '2020-01-08', '2020-01-09', '2020-01-10', '2020-01-13',\n",
       "               '2020-01-14', '2020-01-15',\n",
       "               ...\n",
       "               '2021-08-19', '2021-08-20', '2021-08-23', '2021-08-24',\n",
       "               '2021-08-25', '2021-08-26', '2021-08-27', '2021-08-30',\n",
       "               '2021-08-31', '2021-09-01'],\n",
       "              dtype='datetime64[ns]', name='Date', length=421, freq=None)"
      ]
     },
     "execution_count": 37,
     "metadata": {},
     "output_type": "execute_result"
    }
   ],
   "execution_count": 37
  },
  {
   "cell_type": "code",
   "id": "dea1b66c",
   "metadata": {
    "ExecuteTime": {
     "end_time": "2025-04-16T20:28:21.975020Z",
     "start_time": "2025-04-16T20:28:21.973106Z"
    }
   },
   "source": [
    "import matplotlib.pyplot as plt\n",
    "%matplotlib inline"
   ],
   "outputs": [],
   "execution_count": 38
  },
  {
   "cell_type": "code",
   "id": "5da74d25",
   "metadata": {
    "ExecuteTime": {
     "end_time": "2025-04-16T20:28:22.051399Z",
     "start_time": "2025-04-16T20:28:22.018886Z"
    }
   },
   "source": [
    "figure,axis=plt.subplots()\n",
    "plt.tight_layout()\n",
    "## Preventing overlapping\n",
    "figure.autofmt_xdate()\n",
    "axis.plot(index,share_open)"
   ],
   "outputs": [
    {
     "data": {
      "text/plain": [
       "[<matplotlib.lines.Line2D at 0x1680a22d0>]"
      ]
     },
     "execution_count": 39,
     "metadata": {},
     "output_type": "execute_result"
    }
   ],
   "execution_count": 39
  },
  {
   "cell_type": "code",
   "id": "83149bd0",
   "metadata": {
    "ExecuteTime": {
     "end_time": "2025-04-16T20:28:22.057591Z",
     "start_time": "2025-04-16T20:28:22.055592Z"
    }
   },
   "source": [
    "## Datetime Index"
   ],
   "outputs": [],
   "execution_count": 40
  },
  {
   "cell_type": "code",
   "id": "8350ca58",
   "metadata": {
    "ExecuteTime": {
     "end_time": "2025-04-16T20:28:22.067050Z",
     "start_time": "2025-04-16T20:28:22.064324Z"
    }
   },
   "source": [
    "df_tesla=df_tesla.reset_index()"
   ],
   "outputs": [],
   "execution_count": 41
  },
  {
   "cell_type": "code",
   "id": "6746d682",
   "metadata": {
    "ExecuteTime": {
     "end_time": "2025-04-16T20:28:22.079197Z",
     "start_time": "2025-04-16T20:28:22.074113Z"
    }
   },
   "source": [
    "df_tesla.info()"
   ],
   "outputs": [
    {
     "name": "stdout",
     "output_type": "stream",
     "text": [
      "<class 'pandas.core.frame.DataFrame'>\n",
      "RangeIndex: 756 entries, 0 to 755\n",
      "Data columns (total 6 columns):\n",
      " #   Column          Non-Null Count  Dtype         \n",
      "---  ------          --------------  -----         \n",
      " 0   (Date, )        756 non-null    datetime64[ns]\n",
      " 1   (Close, TSLA)   756 non-null    float64       \n",
      " 2   (High, TSLA)    756 non-null    float64       \n",
      " 3   (Low, TSLA)     756 non-null    float64       \n",
      " 4   (Open, TSLA)    756 non-null    float64       \n",
      " 5   (Volume, TSLA)  756 non-null    int64         \n",
      "dtypes: datetime64[ns](1), float64(4), int64(1)\n",
      "memory usage: 35.6 KB\n"
     ]
    }
   ],
   "execution_count": 42
  },
  {
   "cell_type": "code",
   "id": "31c87e86",
   "metadata": {
    "ExecuteTime": {
     "end_time": "2025-04-16T20:28:22.090069Z",
     "start_time": "2025-04-16T20:28:22.087496Z"
    }
   },
   "source": [
    "df_tesla=df_tesla.set_index('Date',drop=True)"
   ],
   "outputs": [],
   "execution_count": 43
  },
  {
   "cell_type": "code",
   "id": "7423d545",
   "metadata": {
    "ExecuteTime": {
     "end_time": "2025-04-16T20:28:22.109265Z",
     "start_time": "2025-04-16T20:28:22.104476Z"
    }
   },
   "source": [
    "df_tesla.head()"
   ],
   "outputs": [
    {
     "data": {
      "text/plain": [
       "Price           Close       High        Low       Open     Volume\n",
       "Ticker           TSLA       TSLA       TSLA       TSLA       TSLA\n",
       "Date                                                             \n",
       "2020-01-02  28.684000  28.713333  28.114000  28.299999  142981500\n",
       "2020-01-03  29.534000  30.266666  29.128000  29.366667  266677500\n",
       "2020-01-06  30.102667  30.104000  29.333332  29.364668  151995000\n",
       "2020-01-07  31.270666  31.441999  30.224001  30.760000  268231500\n",
       "2020-01-08  32.809334  33.232666  31.215334  31.580000  467164500"
      ],
      "text/html": [
       "<div>\n",
       "<style scoped>\n",
       "    .dataframe tbody tr th:only-of-type {\n",
       "        vertical-align: middle;\n",
       "    }\n",
       "\n",
       "    .dataframe tbody tr th {\n",
       "        vertical-align: top;\n",
       "    }\n",
       "\n",
       "    .dataframe thead tr th {\n",
       "        text-align: left;\n",
       "    }\n",
       "\n",
       "    .dataframe thead tr:last-of-type th {\n",
       "        text-align: right;\n",
       "    }\n",
       "</style>\n",
       "<table border=\"1\" class=\"dataframe\">\n",
       "  <thead>\n",
       "    <tr>\n",
       "      <th>Price</th>\n",
       "      <th>Close</th>\n",
       "      <th>High</th>\n",
       "      <th>Low</th>\n",
       "      <th>Open</th>\n",
       "      <th>Volume</th>\n",
       "    </tr>\n",
       "    <tr>\n",
       "      <th>Ticker</th>\n",
       "      <th>TSLA</th>\n",
       "      <th>TSLA</th>\n",
       "      <th>TSLA</th>\n",
       "      <th>TSLA</th>\n",
       "      <th>TSLA</th>\n",
       "    </tr>\n",
       "    <tr>\n",
       "      <th>Date</th>\n",
       "      <th></th>\n",
       "      <th></th>\n",
       "      <th></th>\n",
       "      <th></th>\n",
       "      <th></th>\n",
       "    </tr>\n",
       "  </thead>\n",
       "  <tbody>\n",
       "    <tr>\n",
       "      <th>2020-01-02</th>\n",
       "      <td>28.684000</td>\n",
       "      <td>28.713333</td>\n",
       "      <td>28.114000</td>\n",
       "      <td>28.299999</td>\n",
       "      <td>142981500</td>\n",
       "    </tr>\n",
       "    <tr>\n",
       "      <th>2020-01-03</th>\n",
       "      <td>29.534000</td>\n",
       "      <td>30.266666</td>\n",
       "      <td>29.128000</td>\n",
       "      <td>29.366667</td>\n",
       "      <td>266677500</td>\n",
       "    </tr>\n",
       "    <tr>\n",
       "      <th>2020-01-06</th>\n",
       "      <td>30.102667</td>\n",
       "      <td>30.104000</td>\n",
       "      <td>29.333332</td>\n",
       "      <td>29.364668</td>\n",
       "      <td>151995000</td>\n",
       "    </tr>\n",
       "    <tr>\n",
       "      <th>2020-01-07</th>\n",
       "      <td>31.270666</td>\n",
       "      <td>31.441999</td>\n",
       "      <td>30.224001</td>\n",
       "      <td>30.760000</td>\n",
       "      <td>268231500</td>\n",
       "    </tr>\n",
       "    <tr>\n",
       "      <th>2020-01-08</th>\n",
       "      <td>32.809334</td>\n",
       "      <td>33.232666</td>\n",
       "      <td>31.215334</td>\n",
       "      <td>31.580000</td>\n",
       "      <td>467164500</td>\n",
       "    </tr>\n",
       "  </tbody>\n",
       "</table>\n",
       "</div>"
      ]
     },
     "execution_count": 44,
     "metadata": {},
     "output_type": "execute_result"
    }
   ],
   "execution_count": 44
  },
  {
   "cell_type": "code",
   "id": "ed080582",
   "metadata": {
    "ExecuteTime": {
     "end_time": "2025-04-16T20:28:22.147691Z",
     "start_time": "2025-04-16T20:28:22.135188Z"
    }
   },
   "source": [
    "## datetime\n",
    "from datetime import datetime"
   ],
   "outputs": [],
   "execution_count": 45
  },
  {
   "cell_type": "code",
   "id": "8bdca59d",
   "metadata": {
    "ExecuteTime": {
     "end_time": "2025-04-16T20:28:22.204603Z",
     "start_time": "2025-04-16T20:28:22.199963Z"
    }
   },
   "source": [
    "datetime(2021,11,21)"
   ],
   "outputs": [
    {
     "data": {
      "text/plain": [
       "datetime.datetime(2021, 11, 21, 0, 0)"
      ]
     },
     "execution_count": 46,
     "metadata": {},
     "output_type": "execute_result"
    }
   ],
   "execution_count": 46
  },
  {
   "cell_type": "code",
   "id": "1f93e9a3",
   "metadata": {
    "ExecuteTime": {
     "end_time": "2025-04-16T20:28:22.273092Z",
     "start_time": "2025-04-16T20:28:22.268826Z"
    }
   },
   "source": [
    "datetime.now()"
   ],
   "outputs": [
    {
     "data": {
      "text/plain": [
       "datetime.datetime(2025, 4, 16, 16, 28, 22, 270797)"
      ]
     },
     "execution_count": 47,
     "metadata": {},
     "output_type": "execute_result"
    }
   ],
   "execution_count": 47
  },
  {
   "cell_type": "code",
   "id": "5069c363",
   "metadata": {
    "ExecuteTime": {
     "end_time": "2025-04-16T20:28:22.324388Z",
     "start_time": "2025-04-16T20:28:22.321362Z"
    }
   },
   "source": [
    "date=datetime(2021,11,21)"
   ],
   "outputs": [],
   "execution_count": 48
  },
  {
   "cell_type": "code",
   "id": "141a0f6c",
   "metadata": {
    "ExecuteTime": {
     "end_time": "2025-04-16T20:28:22.378504Z",
     "start_time": "2025-04-16T20:28:22.376260Z"
    }
   },
   "source": [
    "date"
   ],
   "outputs": [
    {
     "data": {
      "text/plain": [
       "datetime.datetime(2021, 11, 21, 0, 0)"
      ]
     },
     "execution_count": 49,
     "metadata": {},
     "output_type": "execute_result"
    }
   ],
   "execution_count": 49
  },
  {
   "cell_type": "code",
   "id": "10c90eef",
   "metadata": {
    "ExecuteTime": {
     "end_time": "2025-04-16T20:28:22.403342Z",
     "start_time": "2025-04-16T20:28:22.400410Z"
    }
   },
   "source": [
    "date.date()"
   ],
   "outputs": [
    {
     "data": {
      "text/plain": [
       "datetime.date(2021, 11, 21)"
      ]
     },
     "execution_count": 50,
     "metadata": {},
     "output_type": "execute_result"
    }
   ],
   "execution_count": 50
  },
  {
   "cell_type": "code",
   "id": "8d5c191c",
   "metadata": {
    "ExecuteTime": {
     "end_time": "2025-04-16T20:28:22.421286Z",
     "start_time": "2025-04-16T20:28:22.418620Z"
    }
   },
   "source": [
    "date.day"
   ],
   "outputs": [
    {
     "data": {
      "text/plain": [
       "21"
      ]
     },
     "execution_count": 51,
     "metadata": {},
     "output_type": "execute_result"
    }
   ],
   "execution_count": 51
  },
  {
   "cell_type": "code",
   "id": "bff30466",
   "metadata": {
    "ExecuteTime": {
     "end_time": "2025-04-16T20:28:22.439182Z",
     "start_time": "2025-04-16T20:28:22.436671Z"
    }
   },
   "source": [
    "date.weekday()"
   ],
   "outputs": [
    {
     "data": {
      "text/plain": [
       "6"
      ]
     },
     "execution_count": 52,
     "metadata": {},
     "output_type": "execute_result"
    }
   ],
   "execution_count": 52
  },
  {
   "cell_type": "code",
   "id": "602b8aea",
   "metadata": {
    "ExecuteTime": {
     "end_time": "2025-04-16T20:28:22.467405Z",
     "start_time": "2025-04-16T20:28:22.464960Z"
    }
   },
   "source": [
    "date.year"
   ],
   "outputs": [
    {
     "data": {
      "text/plain": [
       "2021"
      ]
     },
     "execution_count": 53,
     "metadata": {},
     "output_type": "execute_result"
    }
   ],
   "execution_count": 53
  },
  {
   "cell_type": "code",
   "id": "020b199c",
   "metadata": {
    "ExecuteTime": {
     "end_time": "2025-04-16T20:28:22.482638Z",
     "start_time": "2025-04-16T20:28:22.480593Z"
    }
   },
   "source": [
    "date.month"
   ],
   "outputs": [
    {
     "data": {
      "text/plain": [
       "11"
      ]
     },
     "execution_count": 54,
     "metadata": {},
     "output_type": "execute_result"
    }
   ],
   "execution_count": 54
  },
  {
   "cell_type": "markdown",
   "id": "4bec9dbb",
   "metadata": {},
   "source": [
    "## Time Resampling"
   ]
  },
  {
   "cell_type": "code",
   "id": "a1dc9a47",
   "metadata": {
    "ExecuteTime": {
     "end_time": "2025-04-16T20:28:22.515Z",
     "start_time": "2025-04-16T20:28:22.510136Z"
    }
   },
   "source": [
    "df_tesla.head()"
   ],
   "outputs": [
    {
     "data": {
      "text/plain": [
       "Price           Close       High        Low       Open     Volume\n",
       "Ticker           TSLA       TSLA       TSLA       TSLA       TSLA\n",
       "Date                                                             \n",
       "2020-01-02  28.684000  28.713333  28.114000  28.299999  142981500\n",
       "2020-01-03  29.534000  30.266666  29.128000  29.366667  266677500\n",
       "2020-01-06  30.102667  30.104000  29.333332  29.364668  151995000\n",
       "2020-01-07  31.270666  31.441999  30.224001  30.760000  268231500\n",
       "2020-01-08  32.809334  33.232666  31.215334  31.580000  467164500"
      ],
      "text/html": [
       "<div>\n",
       "<style scoped>\n",
       "    .dataframe tbody tr th:only-of-type {\n",
       "        vertical-align: middle;\n",
       "    }\n",
       "\n",
       "    .dataframe tbody tr th {\n",
       "        vertical-align: top;\n",
       "    }\n",
       "\n",
       "    .dataframe thead tr th {\n",
       "        text-align: left;\n",
       "    }\n",
       "\n",
       "    .dataframe thead tr:last-of-type th {\n",
       "        text-align: right;\n",
       "    }\n",
       "</style>\n",
       "<table border=\"1\" class=\"dataframe\">\n",
       "  <thead>\n",
       "    <tr>\n",
       "      <th>Price</th>\n",
       "      <th>Close</th>\n",
       "      <th>High</th>\n",
       "      <th>Low</th>\n",
       "      <th>Open</th>\n",
       "      <th>Volume</th>\n",
       "    </tr>\n",
       "    <tr>\n",
       "      <th>Ticker</th>\n",
       "      <th>TSLA</th>\n",
       "      <th>TSLA</th>\n",
       "      <th>TSLA</th>\n",
       "      <th>TSLA</th>\n",
       "      <th>TSLA</th>\n",
       "    </tr>\n",
       "    <tr>\n",
       "      <th>Date</th>\n",
       "      <th></th>\n",
       "      <th></th>\n",
       "      <th></th>\n",
       "      <th></th>\n",
       "      <th></th>\n",
       "    </tr>\n",
       "  </thead>\n",
       "  <tbody>\n",
       "    <tr>\n",
       "      <th>2020-01-02</th>\n",
       "      <td>28.684000</td>\n",
       "      <td>28.713333</td>\n",
       "      <td>28.114000</td>\n",
       "      <td>28.299999</td>\n",
       "      <td>142981500</td>\n",
       "    </tr>\n",
       "    <tr>\n",
       "      <th>2020-01-03</th>\n",
       "      <td>29.534000</td>\n",
       "      <td>30.266666</td>\n",
       "      <td>29.128000</td>\n",
       "      <td>29.366667</td>\n",
       "      <td>266677500</td>\n",
       "    </tr>\n",
       "    <tr>\n",
       "      <th>2020-01-06</th>\n",
       "      <td>30.102667</td>\n",
       "      <td>30.104000</td>\n",
       "      <td>29.333332</td>\n",
       "      <td>29.364668</td>\n",
       "      <td>151995000</td>\n",
       "    </tr>\n",
       "    <tr>\n",
       "      <th>2020-01-07</th>\n",
       "      <td>31.270666</td>\n",
       "      <td>31.441999</td>\n",
       "      <td>30.224001</td>\n",
       "      <td>30.760000</td>\n",
       "      <td>268231500</td>\n",
       "    </tr>\n",
       "    <tr>\n",
       "      <th>2020-01-08</th>\n",
       "      <td>32.809334</td>\n",
       "      <td>33.232666</td>\n",
       "      <td>31.215334</td>\n",
       "      <td>31.580000</td>\n",
       "      <td>467164500</td>\n",
       "    </tr>\n",
       "  </tbody>\n",
       "</table>\n",
       "</div>"
      ]
     },
     "execution_count": 55,
     "metadata": {},
     "output_type": "execute_result"
    }
   ],
   "execution_count": 55
  },
  {
   "cell_type": "code",
   "id": "3a52fae8",
   "metadata": {
    "ExecuteTime": {
     "end_time": "2025-04-16T20:28:22.546014Z",
     "start_time": "2025-04-16T20:28:22.539977Z"
    }
   },
   "source": [
    "df_tesla.resample(rule='A').min()"
   ],
   "outputs": [
    {
     "name": "stderr",
     "output_type": "stream",
     "text": [
      "/var/folders/y2/6_0fydb50tg1y8558pkgz1680000gn/T/ipykernel_9805/402307664.py:1: FutureWarning: 'A' is deprecated and will be removed in a future version, please use 'YE' instead.\n",
      "  df_tesla.resample(rule='A').min()\n"
     ]
    },
    {
     "data": {
      "text/plain": [
       "Price            Close        High         Low        Open    Volume\n",
       "Ticker            TSLA        TSLA        TSLA        TSLA      TSLA\n",
       "Date                                                                \n",
       "2020-12-31   24.081333   26.990667   23.367332   24.980000  52073100\n",
       "2021-12-31  187.666672  188.736664  179.830002  184.183334  29401800\n",
       "2022-12-31  109.099998  116.269997  108.239998  110.349998  41864700"
      ],
      "text/html": [
       "<div>\n",
       "<style scoped>\n",
       "    .dataframe tbody tr th:only-of-type {\n",
       "        vertical-align: middle;\n",
       "    }\n",
       "\n",
       "    .dataframe tbody tr th {\n",
       "        vertical-align: top;\n",
       "    }\n",
       "\n",
       "    .dataframe thead tr th {\n",
       "        text-align: left;\n",
       "    }\n",
       "\n",
       "    .dataframe thead tr:last-of-type th {\n",
       "        text-align: right;\n",
       "    }\n",
       "</style>\n",
       "<table border=\"1\" class=\"dataframe\">\n",
       "  <thead>\n",
       "    <tr>\n",
       "      <th>Price</th>\n",
       "      <th>Close</th>\n",
       "      <th>High</th>\n",
       "      <th>Low</th>\n",
       "      <th>Open</th>\n",
       "      <th>Volume</th>\n",
       "    </tr>\n",
       "    <tr>\n",
       "      <th>Ticker</th>\n",
       "      <th>TSLA</th>\n",
       "      <th>TSLA</th>\n",
       "      <th>TSLA</th>\n",
       "      <th>TSLA</th>\n",
       "      <th>TSLA</th>\n",
       "    </tr>\n",
       "    <tr>\n",
       "      <th>Date</th>\n",
       "      <th></th>\n",
       "      <th></th>\n",
       "      <th></th>\n",
       "      <th></th>\n",
       "      <th></th>\n",
       "    </tr>\n",
       "  </thead>\n",
       "  <tbody>\n",
       "    <tr>\n",
       "      <th>2020-12-31</th>\n",
       "      <td>24.081333</td>\n",
       "      <td>26.990667</td>\n",
       "      <td>23.367332</td>\n",
       "      <td>24.980000</td>\n",
       "      <td>52073100</td>\n",
       "    </tr>\n",
       "    <tr>\n",
       "      <th>2021-12-31</th>\n",
       "      <td>187.666672</td>\n",
       "      <td>188.736664</td>\n",
       "      <td>179.830002</td>\n",
       "      <td>184.183334</td>\n",
       "      <td>29401800</td>\n",
       "    </tr>\n",
       "    <tr>\n",
       "      <th>2022-12-31</th>\n",
       "      <td>109.099998</td>\n",
       "      <td>116.269997</td>\n",
       "      <td>108.239998</td>\n",
       "      <td>110.349998</td>\n",
       "      <td>41864700</td>\n",
       "    </tr>\n",
       "  </tbody>\n",
       "</table>\n",
       "</div>"
      ]
     },
     "execution_count": 56,
     "metadata": {},
     "output_type": "execute_result"
    }
   ],
   "execution_count": 56
  },
  {
   "cell_type": "code",
   "id": "f6171bda",
   "metadata": {
    "ExecuteTime": {
     "end_time": "2025-04-16T20:28:22.581467Z",
     "start_time": "2025-04-16T20:28:22.576434Z"
    }
   },
   "source": [
    "df_tesla.resample(rule='A').max()"
   ],
   "outputs": [
    {
     "name": "stderr",
     "output_type": "stream",
     "text": [
      "/var/folders/y2/6_0fydb50tg1y8558pkgz1680000gn/T/ipykernel_9805/295686357.py:1: FutureWarning: 'A' is deprecated and will be removed in a future version, please use 'YE' instead.\n",
      "  df_tesla.resample(rule='A').max()\n"
     ]
    },
    {
     "data": {
      "text/plain": [
       "Price            Close        High         Low        Open     Volume\n",
       "Ticker            TSLA        TSLA        TSLA        TSLA       TSLA\n",
       "Date                                                                 \n",
       "2020-12-31  235.223328  239.573334  230.373337  233.330002  914082000\n",
       "2021-12-31  409.970001  414.496674  405.666656  411.470001  268189500\n",
       "2022-12-31  399.926666  402.666656  378.679993  396.516663  221923300"
      ],
      "text/html": [
       "<div>\n",
       "<style scoped>\n",
       "    .dataframe tbody tr th:only-of-type {\n",
       "        vertical-align: middle;\n",
       "    }\n",
       "\n",
       "    .dataframe tbody tr th {\n",
       "        vertical-align: top;\n",
       "    }\n",
       "\n",
       "    .dataframe thead tr th {\n",
       "        text-align: left;\n",
       "    }\n",
       "\n",
       "    .dataframe thead tr:last-of-type th {\n",
       "        text-align: right;\n",
       "    }\n",
       "</style>\n",
       "<table border=\"1\" class=\"dataframe\">\n",
       "  <thead>\n",
       "    <tr>\n",
       "      <th>Price</th>\n",
       "      <th>Close</th>\n",
       "      <th>High</th>\n",
       "      <th>Low</th>\n",
       "      <th>Open</th>\n",
       "      <th>Volume</th>\n",
       "    </tr>\n",
       "    <tr>\n",
       "      <th>Ticker</th>\n",
       "      <th>TSLA</th>\n",
       "      <th>TSLA</th>\n",
       "      <th>TSLA</th>\n",
       "      <th>TSLA</th>\n",
       "      <th>TSLA</th>\n",
       "    </tr>\n",
       "    <tr>\n",
       "      <th>Date</th>\n",
       "      <th></th>\n",
       "      <th></th>\n",
       "      <th></th>\n",
       "      <th></th>\n",
       "      <th></th>\n",
       "    </tr>\n",
       "  </thead>\n",
       "  <tbody>\n",
       "    <tr>\n",
       "      <th>2020-12-31</th>\n",
       "      <td>235.223328</td>\n",
       "      <td>239.573334</td>\n",
       "      <td>230.373337</td>\n",
       "      <td>233.330002</td>\n",
       "      <td>914082000</td>\n",
       "    </tr>\n",
       "    <tr>\n",
       "      <th>2021-12-31</th>\n",
       "      <td>409.970001</td>\n",
       "      <td>414.496674</td>\n",
       "      <td>405.666656</td>\n",
       "      <td>411.470001</td>\n",
       "      <td>268189500</td>\n",
       "    </tr>\n",
       "    <tr>\n",
       "      <th>2022-12-31</th>\n",
       "      <td>399.926666</td>\n",
       "      <td>402.666656</td>\n",
       "      <td>378.679993</td>\n",
       "      <td>396.516663</td>\n",
       "      <td>221923300</td>\n",
       "    </tr>\n",
       "  </tbody>\n",
       "</table>\n",
       "</div>"
      ]
     },
     "execution_count": 57,
     "metadata": {},
     "output_type": "execute_result"
    }
   ],
   "execution_count": 57
  },
  {
   "cell_type": "code",
   "id": "6d8f06e8",
   "metadata": {
    "ExecuteTime": {
     "end_time": "2025-04-16T20:28:22.689343Z",
     "start_time": "2025-04-16T20:28:22.667100Z"
    }
   },
   "source": [
    "##year end frequency\n",
    "df_tesla.resample(rule='A').max()['Open'].plot()"
   ],
   "outputs": [
    {
     "name": "stderr",
     "output_type": "stream",
     "text": [
      "/var/folders/y2/6_0fydb50tg1y8558pkgz1680000gn/T/ipykernel_9805/2277633379.py:2: FutureWarning: 'A' is deprecated and will be removed in a future version, please use 'YE' instead.\n",
      "  df_tesla.resample(rule='A').max()['Open'].plot()\n"
     ]
    },
    {
     "data": {
      "text/plain": [
       "<Axes: xlabel='Date'>"
      ]
     },
     "execution_count": 58,
     "metadata": {},
     "output_type": "execute_result"
    }
   ],
   "execution_count": 58
  },
  {
   "cell_type": "code",
   "id": "52eceae2",
   "metadata": {
    "ExecuteTime": {
     "end_time": "2025-04-16T20:28:22.833622Z",
     "start_time": "2025-04-16T20:28:22.750797Z"
    }
   },
   "source": [
    "##quaterly start frequency\n",
    "##https://towardsdatascience.com/resample-function-of-pandas-79b17ec82a78\n",
    "df_tesla.resample(rule='QS').max()['High'].plot()"
   ],
   "outputs": [
    {
     "data": {
      "text/plain": [
       "<Axes: xlabel='Date'>"
      ]
     },
     "execution_count": 59,
     "metadata": {},
     "output_type": "execute_result"
    }
   ],
   "execution_count": 59
  },
  {
   "cell_type": "code",
   "id": "384d6d83",
   "metadata": {
    "ExecuteTime": {
     "end_time": "2025-04-16T20:28:22.868669Z",
     "start_time": "2025-04-16T20:28:22.863380Z"
    }
   },
   "source": [
    "##Business End Frequency\n",
    "##https://towardsdatascience.com/resample-function-of-pandas-79b17ec82a78\n",
    "df_tesla.resample(rule='BA').max()"
   ],
   "outputs": [
    {
     "name": "stderr",
     "output_type": "stream",
     "text": [
      "/var/folders/y2/6_0fydb50tg1y8558pkgz1680000gn/T/ipykernel_9805/2031871557.py:3: FutureWarning: 'BA' is deprecated and will be removed in a future version, please use 'BYE' instead.\n",
      "  df_tesla.resample(rule='BA').max()\n"
     ]
    },
    {
     "data": {
      "text/plain": [
       "Price            Close        High         Low        Open     Volume\n",
       "Ticker            TSLA        TSLA        TSLA        TSLA       TSLA\n",
       "Date                                                                 \n",
       "2020-12-31  235.223328  239.573334  230.373337  233.330002  914082000\n",
       "2021-12-31  409.970001  414.496674  405.666656  411.470001  268189500\n",
       "2022-12-30  399.926666  402.666656  378.679993  396.516663  221923300"
      ],
      "text/html": [
       "<div>\n",
       "<style scoped>\n",
       "    .dataframe tbody tr th:only-of-type {\n",
       "        vertical-align: middle;\n",
       "    }\n",
       "\n",
       "    .dataframe tbody tr th {\n",
       "        vertical-align: top;\n",
       "    }\n",
       "\n",
       "    .dataframe thead tr th {\n",
       "        text-align: left;\n",
       "    }\n",
       "\n",
       "    .dataframe thead tr:last-of-type th {\n",
       "        text-align: right;\n",
       "    }\n",
       "</style>\n",
       "<table border=\"1\" class=\"dataframe\">\n",
       "  <thead>\n",
       "    <tr>\n",
       "      <th>Price</th>\n",
       "      <th>Close</th>\n",
       "      <th>High</th>\n",
       "      <th>Low</th>\n",
       "      <th>Open</th>\n",
       "      <th>Volume</th>\n",
       "    </tr>\n",
       "    <tr>\n",
       "      <th>Ticker</th>\n",
       "      <th>TSLA</th>\n",
       "      <th>TSLA</th>\n",
       "      <th>TSLA</th>\n",
       "      <th>TSLA</th>\n",
       "      <th>TSLA</th>\n",
       "    </tr>\n",
       "    <tr>\n",
       "      <th>Date</th>\n",
       "      <th></th>\n",
       "      <th></th>\n",
       "      <th></th>\n",
       "      <th></th>\n",
       "      <th></th>\n",
       "    </tr>\n",
       "  </thead>\n",
       "  <tbody>\n",
       "    <tr>\n",
       "      <th>2020-12-31</th>\n",
       "      <td>235.223328</td>\n",
       "      <td>239.573334</td>\n",
       "      <td>230.373337</td>\n",
       "      <td>233.330002</td>\n",
       "      <td>914082000</td>\n",
       "    </tr>\n",
       "    <tr>\n",
       "      <th>2021-12-31</th>\n",
       "      <td>409.970001</td>\n",
       "      <td>414.496674</td>\n",
       "      <td>405.666656</td>\n",
       "      <td>411.470001</td>\n",
       "      <td>268189500</td>\n",
       "    </tr>\n",
       "    <tr>\n",
       "      <th>2022-12-30</th>\n",
       "      <td>399.926666</td>\n",
       "      <td>402.666656</td>\n",
       "      <td>378.679993</td>\n",
       "      <td>396.516663</td>\n",
       "      <td>221923300</td>\n",
       "    </tr>\n",
       "  </tbody>\n",
       "</table>\n",
       "</div>"
      ]
     },
     "execution_count": 60,
     "metadata": {},
     "output_type": "execute_result"
    }
   ],
   "execution_count": 60
  },
  {
   "cell_type": "code",
   "id": "0820f1b7",
   "metadata": {
    "ExecuteTime": {
     "end_time": "2025-04-16T20:28:22.931155Z",
     "start_time": "2025-04-16T20:28:22.925657Z"
    }
   },
   "source": [
    "df_tesla.resample(rule='BQS').max()"
   ],
   "outputs": [
    {
     "data": {
      "text/plain": [
       "Price            Close        High         Low        Open     Volume\n",
       "Ticker            TSLA        TSLA        TSLA        TSLA       TSLA\n",
       "Date                                                                 \n",
       "2020-01-01   61.161331   64.599335   60.068001   61.566666  914082000\n",
       "2020-04-01   71.987335   72.512665   66.915337   67.518669  487977000\n",
       "2020-07-01  166.106674  167.496674  156.836670  167.380005  584781000\n",
       "2020-10-01  235.223328  239.573334  230.373337  233.330002  666378600\n",
       "2021-01-01  294.363342  300.133331  290.533325  297.126678  268189500\n",
       "2021-04-01  254.106674  260.263336  244.203339  256.899994  147052200\n",
       "2021-07-01  263.786682  266.333344  258.333344  262.399994  100847400\n",
       "2021-10-01  409.970001  414.496674  405.666656  411.470001  188556300\n",
       "2022-01-03  399.926666  402.666656  378.679993  396.516663  151565700\n",
       "2022-04-01  381.816681  384.290009  362.433319  378.766663  144973200\n",
       "2022-07-01  309.320007  314.666656  305.579987  311.666656  142032300\n",
       "2022-10-03  249.440002  257.500000  242.009995  254.500000  221923300"
      ],
      "text/html": [
       "<div>\n",
       "<style scoped>\n",
       "    .dataframe tbody tr th:only-of-type {\n",
       "        vertical-align: middle;\n",
       "    }\n",
       "\n",
       "    .dataframe tbody tr th {\n",
       "        vertical-align: top;\n",
       "    }\n",
       "\n",
       "    .dataframe thead tr th {\n",
       "        text-align: left;\n",
       "    }\n",
       "\n",
       "    .dataframe thead tr:last-of-type th {\n",
       "        text-align: right;\n",
       "    }\n",
       "</style>\n",
       "<table border=\"1\" class=\"dataframe\">\n",
       "  <thead>\n",
       "    <tr>\n",
       "      <th>Price</th>\n",
       "      <th>Close</th>\n",
       "      <th>High</th>\n",
       "      <th>Low</th>\n",
       "      <th>Open</th>\n",
       "      <th>Volume</th>\n",
       "    </tr>\n",
       "    <tr>\n",
       "      <th>Ticker</th>\n",
       "      <th>TSLA</th>\n",
       "      <th>TSLA</th>\n",
       "      <th>TSLA</th>\n",
       "      <th>TSLA</th>\n",
       "      <th>TSLA</th>\n",
       "    </tr>\n",
       "    <tr>\n",
       "      <th>Date</th>\n",
       "      <th></th>\n",
       "      <th></th>\n",
       "      <th></th>\n",
       "      <th></th>\n",
       "      <th></th>\n",
       "    </tr>\n",
       "  </thead>\n",
       "  <tbody>\n",
       "    <tr>\n",
       "      <th>2020-01-01</th>\n",
       "      <td>61.161331</td>\n",
       "      <td>64.599335</td>\n",
       "      <td>60.068001</td>\n",
       "      <td>61.566666</td>\n",
       "      <td>914082000</td>\n",
       "    </tr>\n",
       "    <tr>\n",
       "      <th>2020-04-01</th>\n",
       "      <td>71.987335</td>\n",
       "      <td>72.512665</td>\n",
       "      <td>66.915337</td>\n",
       "      <td>67.518669</td>\n",
       "      <td>487977000</td>\n",
       "    </tr>\n",
       "    <tr>\n",
       "      <th>2020-07-01</th>\n",
       "      <td>166.106674</td>\n",
       "      <td>167.496674</td>\n",
       "      <td>156.836670</td>\n",
       "      <td>167.380005</td>\n",
       "      <td>584781000</td>\n",
       "    </tr>\n",
       "    <tr>\n",
       "      <th>2020-10-01</th>\n",
       "      <td>235.223328</td>\n",
       "      <td>239.573334</td>\n",
       "      <td>230.373337</td>\n",
       "      <td>233.330002</td>\n",
       "      <td>666378600</td>\n",
       "    </tr>\n",
       "    <tr>\n",
       "      <th>2021-01-01</th>\n",
       "      <td>294.363342</td>\n",
       "      <td>300.133331</td>\n",
       "      <td>290.533325</td>\n",
       "      <td>297.126678</td>\n",
       "      <td>268189500</td>\n",
       "    </tr>\n",
       "    <tr>\n",
       "      <th>2021-04-01</th>\n",
       "      <td>254.106674</td>\n",
       "      <td>260.263336</td>\n",
       "      <td>244.203339</td>\n",
       "      <td>256.899994</td>\n",
       "      <td>147052200</td>\n",
       "    </tr>\n",
       "    <tr>\n",
       "      <th>2021-07-01</th>\n",
       "      <td>263.786682</td>\n",
       "      <td>266.333344</td>\n",
       "      <td>258.333344</td>\n",
       "      <td>262.399994</td>\n",
       "      <td>100847400</td>\n",
       "    </tr>\n",
       "    <tr>\n",
       "      <th>2021-10-01</th>\n",
       "      <td>409.970001</td>\n",
       "      <td>414.496674</td>\n",
       "      <td>405.666656</td>\n",
       "      <td>411.470001</td>\n",
       "      <td>188556300</td>\n",
       "    </tr>\n",
       "    <tr>\n",
       "      <th>2022-01-03</th>\n",
       "      <td>399.926666</td>\n",
       "      <td>402.666656</td>\n",
       "      <td>378.679993</td>\n",
       "      <td>396.516663</td>\n",
       "      <td>151565700</td>\n",
       "    </tr>\n",
       "    <tr>\n",
       "      <th>2022-04-01</th>\n",
       "      <td>381.816681</td>\n",
       "      <td>384.290009</td>\n",
       "      <td>362.433319</td>\n",
       "      <td>378.766663</td>\n",
       "      <td>144973200</td>\n",
       "    </tr>\n",
       "    <tr>\n",
       "      <th>2022-07-01</th>\n",
       "      <td>309.320007</td>\n",
       "      <td>314.666656</td>\n",
       "      <td>305.579987</td>\n",
       "      <td>311.666656</td>\n",
       "      <td>142032300</td>\n",
       "    </tr>\n",
       "    <tr>\n",
       "      <th>2022-10-03</th>\n",
       "      <td>249.440002</td>\n",
       "      <td>257.500000</td>\n",
       "      <td>242.009995</td>\n",
       "      <td>254.500000</td>\n",
       "      <td>221923300</td>\n",
       "    </tr>\n",
       "  </tbody>\n",
       "</table>\n",
       "</div>"
      ]
     },
     "execution_count": 61,
     "metadata": {},
     "output_type": "execute_result"
    }
   ],
   "execution_count": 61
  },
  {
   "cell_type": "code",
   "id": "8b259548",
   "metadata": {
    "ExecuteTime": {
     "end_time": "2025-04-16T20:28:23.040787Z",
     "start_time": "2025-04-16T20:28:23.016868Z"
    }
   },
   "source": [
    "##plotting\n",
    "df_tesla['Open'].resample(rule='A').mean().plot(kind='bar')"
   ],
   "outputs": [
    {
     "name": "stderr",
     "output_type": "stream",
     "text": [
      "/var/folders/y2/6_0fydb50tg1y8558pkgz1680000gn/T/ipykernel_9805/1115683062.py:2: FutureWarning: 'A' is deprecated and will be removed in a future version, please use 'YE' instead.\n",
      "  df_tesla['Open'].resample(rule='A').mean().plot(kind='bar')\n"
     ]
    },
    {
     "data": {
      "text/plain": [
       "<Axes: xlabel='Date'>"
      ]
     },
     "execution_count": 62,
     "metadata": {},
     "output_type": "execute_result"
    }
   ],
   "execution_count": 62
  },
  {
   "cell_type": "code",
   "id": "843faaac",
   "metadata": {
    "ExecuteTime": {
     "end_time": "2025-04-16T20:28:23.148792Z",
     "start_time": "2025-04-16T20:28:23.083457Z"
    }
   },
   "source": [
    "df_tesla['Open'].resample(rule='M').max().plot(kind='bar',figsize=(15,6))"
   ],
   "outputs": [
    {
     "name": "stderr",
     "output_type": "stream",
     "text": [
      "/var/folders/y2/6_0fydb50tg1y8558pkgz1680000gn/T/ipykernel_9805/2600133088.py:1: FutureWarning: 'M' is deprecated and will be removed in a future version, please use 'ME' instead.\n",
      "  df_tesla['Open'].resample(rule='M').max().plot(kind='bar',figsize=(15,6))\n"
     ]
    },
    {
     "data": {
      "text/plain": [
       "<Axes: xlabel='Date'>"
      ]
     },
     "execution_count": 63,
     "metadata": {},
     "output_type": "execute_result"
    }
   ],
   "execution_count": 63
  },
  {
   "cell_type": "code",
   "id": "ba11eeb4",
   "metadata": {
    "ExecuteTime": {
     "end_time": "2025-04-16T20:28:23.193343Z",
     "start_time": "2025-04-16T20:28:23.189056Z"
    }
   },
   "source": [
    "df_tesla['High'].rolling(11).max().head(20)"
   ],
   "outputs": [
    {
     "data": {
      "text/plain": [
       "Ticker           TSLA\n",
       "Date                 \n",
       "2020-01-02        NaN\n",
       "2020-01-03        NaN\n",
       "2020-01-06        NaN\n",
       "2020-01-07        NaN\n",
       "2020-01-08        NaN\n",
       "2020-01-09        NaN\n",
       "2020-01-10        NaN\n",
       "2020-01-13        NaN\n",
       "2020-01-14        NaN\n",
       "2020-01-15        NaN\n",
       "2020-01-16  36.493999\n",
       "2020-01-17  36.493999\n",
       "2020-01-21  36.571999\n",
       "2020-01-22  39.633331\n",
       "2020-01-23  39.633331\n",
       "2020-01-24  39.633331\n",
       "2020-01-27  39.633331\n",
       "2020-01-28  39.633331\n",
       "2020-01-29  39.633331\n",
       "2020-01-30  43.391998"
      ],
      "text/html": [
       "<div>\n",
       "<style scoped>\n",
       "    .dataframe tbody tr th:only-of-type {\n",
       "        vertical-align: middle;\n",
       "    }\n",
       "\n",
       "    .dataframe tbody tr th {\n",
       "        vertical-align: top;\n",
       "    }\n",
       "\n",
       "    .dataframe thead th {\n",
       "        text-align: right;\n",
       "    }\n",
       "</style>\n",
       "<table border=\"1\" class=\"dataframe\">\n",
       "  <thead>\n",
       "    <tr style=\"text-align: right;\">\n",
       "      <th>Ticker</th>\n",
       "      <th>TSLA</th>\n",
       "    </tr>\n",
       "    <tr>\n",
       "      <th>Date</th>\n",
       "      <th></th>\n",
       "    </tr>\n",
       "  </thead>\n",
       "  <tbody>\n",
       "    <tr>\n",
       "      <th>2020-01-02</th>\n",
       "      <td>NaN</td>\n",
       "    </tr>\n",
       "    <tr>\n",
       "      <th>2020-01-03</th>\n",
       "      <td>NaN</td>\n",
       "    </tr>\n",
       "    <tr>\n",
       "      <th>2020-01-06</th>\n",
       "      <td>NaN</td>\n",
       "    </tr>\n",
       "    <tr>\n",
       "      <th>2020-01-07</th>\n",
       "      <td>NaN</td>\n",
       "    </tr>\n",
       "    <tr>\n",
       "      <th>2020-01-08</th>\n",
       "      <td>NaN</td>\n",
       "    </tr>\n",
       "    <tr>\n",
       "      <th>2020-01-09</th>\n",
       "      <td>NaN</td>\n",
       "    </tr>\n",
       "    <tr>\n",
       "      <th>2020-01-10</th>\n",
       "      <td>NaN</td>\n",
       "    </tr>\n",
       "    <tr>\n",
       "      <th>2020-01-13</th>\n",
       "      <td>NaN</td>\n",
       "    </tr>\n",
       "    <tr>\n",
       "      <th>2020-01-14</th>\n",
       "      <td>NaN</td>\n",
       "    </tr>\n",
       "    <tr>\n",
       "      <th>2020-01-15</th>\n",
       "      <td>NaN</td>\n",
       "    </tr>\n",
       "    <tr>\n",
       "      <th>2020-01-16</th>\n",
       "      <td>36.493999</td>\n",
       "    </tr>\n",
       "    <tr>\n",
       "      <th>2020-01-17</th>\n",
       "      <td>36.493999</td>\n",
       "    </tr>\n",
       "    <tr>\n",
       "      <th>2020-01-21</th>\n",
       "      <td>36.571999</td>\n",
       "    </tr>\n",
       "    <tr>\n",
       "      <th>2020-01-22</th>\n",
       "      <td>39.633331</td>\n",
       "    </tr>\n",
       "    <tr>\n",
       "      <th>2020-01-23</th>\n",
       "      <td>39.633331</td>\n",
       "    </tr>\n",
       "    <tr>\n",
       "      <th>2020-01-24</th>\n",
       "      <td>39.633331</td>\n",
       "    </tr>\n",
       "    <tr>\n",
       "      <th>2020-01-27</th>\n",
       "      <td>39.633331</td>\n",
       "    </tr>\n",
       "    <tr>\n",
       "      <th>2020-01-28</th>\n",
       "      <td>39.633331</td>\n",
       "    </tr>\n",
       "    <tr>\n",
       "      <th>2020-01-29</th>\n",
       "      <td>39.633331</td>\n",
       "    </tr>\n",
       "    <tr>\n",
       "      <th>2020-01-30</th>\n",
       "      <td>43.391998</td>\n",
       "    </tr>\n",
       "  </tbody>\n",
       "</table>\n",
       "</div>"
      ]
     },
     "execution_count": 64,
     "metadata": {},
     "output_type": "execute_result"
    }
   ],
   "execution_count": 64
  },
  {
   "cell_type": "code",
   "id": "1507d710",
   "metadata": {
    "ExecuteTime": {
     "end_time": "2025-04-16T20:28:23.249816Z",
     "start_time": "2025-04-16T20:28:23.245530Z"
    }
   },
   "source": [
    "df_tesla.head()"
   ],
   "outputs": [
    {
     "data": {
      "text/plain": [
       "Price           Close       High        Low       Open     Volume\n",
       "Ticker           TSLA       TSLA       TSLA       TSLA       TSLA\n",
       "Date                                                             \n",
       "2020-01-02  28.684000  28.713333  28.114000  28.299999  142981500\n",
       "2020-01-03  29.534000  30.266666  29.128000  29.366667  266677500\n",
       "2020-01-06  30.102667  30.104000  29.333332  29.364668  151995000\n",
       "2020-01-07  31.270666  31.441999  30.224001  30.760000  268231500\n",
       "2020-01-08  32.809334  33.232666  31.215334  31.580000  467164500"
      ],
      "text/html": [
       "<div>\n",
       "<style scoped>\n",
       "    .dataframe tbody tr th:only-of-type {\n",
       "        vertical-align: middle;\n",
       "    }\n",
       "\n",
       "    .dataframe tbody tr th {\n",
       "        vertical-align: top;\n",
       "    }\n",
       "\n",
       "    .dataframe thead tr th {\n",
       "        text-align: left;\n",
       "    }\n",
       "\n",
       "    .dataframe thead tr:last-of-type th {\n",
       "        text-align: right;\n",
       "    }\n",
       "</style>\n",
       "<table border=\"1\" class=\"dataframe\">\n",
       "  <thead>\n",
       "    <tr>\n",
       "      <th>Price</th>\n",
       "      <th>Close</th>\n",
       "      <th>High</th>\n",
       "      <th>Low</th>\n",
       "      <th>Open</th>\n",
       "      <th>Volume</th>\n",
       "    </tr>\n",
       "    <tr>\n",
       "      <th>Ticker</th>\n",
       "      <th>TSLA</th>\n",
       "      <th>TSLA</th>\n",
       "      <th>TSLA</th>\n",
       "      <th>TSLA</th>\n",
       "      <th>TSLA</th>\n",
       "    </tr>\n",
       "    <tr>\n",
       "      <th>Date</th>\n",
       "      <th></th>\n",
       "      <th></th>\n",
       "      <th></th>\n",
       "      <th></th>\n",
       "      <th></th>\n",
       "    </tr>\n",
       "  </thead>\n",
       "  <tbody>\n",
       "    <tr>\n",
       "      <th>2020-01-02</th>\n",
       "      <td>28.684000</td>\n",
       "      <td>28.713333</td>\n",
       "      <td>28.114000</td>\n",
       "      <td>28.299999</td>\n",
       "      <td>142981500</td>\n",
       "    </tr>\n",
       "    <tr>\n",
       "      <th>2020-01-03</th>\n",
       "      <td>29.534000</td>\n",
       "      <td>30.266666</td>\n",
       "      <td>29.128000</td>\n",
       "      <td>29.366667</td>\n",
       "      <td>266677500</td>\n",
       "    </tr>\n",
       "    <tr>\n",
       "      <th>2020-01-06</th>\n",
       "      <td>30.102667</td>\n",
       "      <td>30.104000</td>\n",
       "      <td>29.333332</td>\n",
       "      <td>29.364668</td>\n",
       "      <td>151995000</td>\n",
       "    </tr>\n",
       "    <tr>\n",
       "      <th>2020-01-07</th>\n",
       "      <td>31.270666</td>\n",
       "      <td>31.441999</td>\n",
       "      <td>30.224001</td>\n",
       "      <td>30.760000</td>\n",
       "      <td>268231500</td>\n",
       "    </tr>\n",
       "    <tr>\n",
       "      <th>2020-01-08</th>\n",
       "      <td>32.809334</td>\n",
       "      <td>33.232666</td>\n",
       "      <td>31.215334</td>\n",
       "      <td>31.580000</td>\n",
       "      <td>467164500</td>\n",
       "    </tr>\n",
       "  </tbody>\n",
       "</table>\n",
       "</div>"
      ]
     },
     "execution_count": 65,
     "metadata": {},
     "output_type": "execute_result"
    }
   ],
   "execution_count": 65
  },
  {
   "cell_type": "code",
   "id": "f51c43cc",
   "metadata": {
    "ExecuteTime": {
     "end_time": "2025-04-16T20:28:23.290328Z",
     "start_time": "2025-04-16T20:28:23.286877Z"
    }
   },
   "source": [
    "df_tesla['Open:30 days rolling']=df_tesla['Open'].rolling(30).mean()"
   ],
   "outputs": [],
   "execution_count": 66
  },
  {
   "cell_type": "code",
   "id": "b8275481",
   "metadata": {
    "ExecuteTime": {
     "end_time": "2025-04-16T20:28:23.374347Z",
     "start_time": "2025-04-16T20:28:23.368424Z"
    }
   },
   "source": [
    "df_tesla.head(31)"
   ],
   "outputs": [
    {
     "data": {
      "text/plain": [
       "Price           Close       High        Low       Open     Volume  \\\n",
       "Ticker           TSLA       TSLA       TSLA       TSLA       TSLA   \n",
       "Date                                                                \n",
       "2020-01-02  28.684000  28.713333  28.114000  28.299999  142981500   \n",
       "2020-01-03  29.534000  30.266666  29.128000  29.366667  266677500   \n",
       "2020-01-06  30.102667  30.104000  29.333332  29.364668  151995000   \n",
       "2020-01-07  31.270666  31.441999  30.224001  30.760000  268231500   \n",
       "2020-01-08  32.809334  33.232666  31.215334  31.580000  467164500   \n",
       "2020-01-09  32.089333  33.253334  31.524668  33.139999  426606000   \n",
       "2020-01-10  31.876667  32.329334  31.580000  32.119331  194392500   \n",
       "2020-01-13  34.990665  35.042000  32.799999  32.900002  397764000   \n",
       "2020-01-14  35.861332  36.493999  34.993332  36.284000  434943000   \n",
       "2020-01-15  34.566666  35.855999  34.452667  35.317333  260532000   \n",
       "2020-01-16  34.232666  34.297333  32.811333  32.916668  326050500   \n",
       "2020-01-17  34.033333  34.377998  33.543999  33.840668  204436500   \n",
       "2020-01-21  36.480000  36.571999  35.227333  35.349998  267052500   \n",
       "2020-01-22  37.970669  39.633331  37.273335  38.125999  470535000   \n",
       "2020-01-23  38.146667  38.799999  37.040001  37.616669  294765000   \n",
       "2020-01-24  37.654667  38.257332  36.950668  38.042000  215304000   \n",
       "2020-01-27  37.201332  37.629333  35.952000  36.132668  204121500   \n",
       "2020-01-28  37.793331  38.453999  37.205334  37.899334  176827500   \n",
       "2020-01-29  38.732666  39.320000  37.828667  38.379333  267022500   \n",
       "2020-01-30  42.720669  43.391998  41.200001  42.161331  435085500   \n",
       "2020-01-31  43.371334  43.533333  42.167999  42.666668  235789500   \n",
       "2020-02-03  52.000000  52.409332  44.901333  44.912666  705975000   \n",
       "2020-02-04  59.137333  64.599335  55.591999  58.863998  914082000   \n",
       "2020-02-05  48.980000  56.398666  46.940666  54.883999  726357000   \n",
       "2020-02-06  49.930668  53.055332  45.799999  46.661331  598212000   \n",
       "2020-02-07  49.871334  51.316666  48.666668  48.703335  255952500   \n",
       "2020-02-10  51.418667  54.666000  50.160000  53.333332  370338000   \n",
       "2020-02-11  51.625332  52.234001  50.533333  51.252666  175462500   \n",
       "2020-02-12  51.152668  52.650002  50.891335  51.858002  180337500   \n",
       "2020-02-13  53.599998  54.533333  49.000000  49.456001  394339500   \n",
       "2020-02-14  53.335335  54.198002  52.366669  52.481335  235405500   \n",
       "\n",
       "Price      Open:30 days rolling  \n",
       "Ticker                           \n",
       "Date                             \n",
       "2020-01-02                  NaN  \n",
       "2020-01-03                  NaN  \n",
       "2020-01-06                  NaN  \n",
       "2020-01-07                  NaN  \n",
       "2020-01-08                  NaN  \n",
       "2020-01-09                  NaN  \n",
       "2020-01-10                  NaN  \n",
       "2020-01-13                  NaN  \n",
       "2020-01-14                  NaN  \n",
       "2020-01-15                  NaN  \n",
       "2020-01-16                  NaN  \n",
       "2020-01-17                  NaN  \n",
       "2020-01-21                  NaN  \n",
       "2020-01-22                  NaN  \n",
       "2020-01-23                  NaN  \n",
       "2020-01-24                  NaN  \n",
       "2020-01-27                  NaN  \n",
       "2020-01-28                  NaN  \n",
       "2020-01-29                  NaN  \n",
       "2020-01-30                  NaN  \n",
       "2020-01-31                  NaN  \n",
       "2020-02-03                  NaN  \n",
       "2020-02-04                  NaN  \n",
       "2020-02-05                  NaN  \n",
       "2020-02-06                  NaN  \n",
       "2020-02-07                  NaN  \n",
       "2020-02-10                  NaN  \n",
       "2020-02-11                  NaN  \n",
       "2020-02-12                  NaN  \n",
       "2020-02-13            39.739622  \n",
       "2020-02-14            40.545667  "
      ],
      "text/html": [
       "<div>\n",
       "<style scoped>\n",
       "    .dataframe tbody tr th:only-of-type {\n",
       "        vertical-align: middle;\n",
       "    }\n",
       "\n",
       "    .dataframe tbody tr th {\n",
       "        vertical-align: top;\n",
       "    }\n",
       "\n",
       "    .dataframe thead tr th {\n",
       "        text-align: left;\n",
       "    }\n",
       "\n",
       "    .dataframe thead tr:last-of-type th {\n",
       "        text-align: right;\n",
       "    }\n",
       "</style>\n",
       "<table border=\"1\" class=\"dataframe\">\n",
       "  <thead>\n",
       "    <tr>\n",
       "      <th>Price</th>\n",
       "      <th>Close</th>\n",
       "      <th>High</th>\n",
       "      <th>Low</th>\n",
       "      <th>Open</th>\n",
       "      <th>Volume</th>\n",
       "      <th>Open:30 days rolling</th>\n",
       "    </tr>\n",
       "    <tr>\n",
       "      <th>Ticker</th>\n",
       "      <th>TSLA</th>\n",
       "      <th>TSLA</th>\n",
       "      <th>TSLA</th>\n",
       "      <th>TSLA</th>\n",
       "      <th>TSLA</th>\n",
       "      <th></th>\n",
       "    </tr>\n",
       "    <tr>\n",
       "      <th>Date</th>\n",
       "      <th></th>\n",
       "      <th></th>\n",
       "      <th></th>\n",
       "      <th></th>\n",
       "      <th></th>\n",
       "      <th></th>\n",
       "    </tr>\n",
       "  </thead>\n",
       "  <tbody>\n",
       "    <tr>\n",
       "      <th>2020-01-02</th>\n",
       "      <td>28.684000</td>\n",
       "      <td>28.713333</td>\n",
       "      <td>28.114000</td>\n",
       "      <td>28.299999</td>\n",
       "      <td>142981500</td>\n",
       "      <td>NaN</td>\n",
       "    </tr>\n",
       "    <tr>\n",
       "      <th>2020-01-03</th>\n",
       "      <td>29.534000</td>\n",
       "      <td>30.266666</td>\n",
       "      <td>29.128000</td>\n",
       "      <td>29.366667</td>\n",
       "      <td>266677500</td>\n",
       "      <td>NaN</td>\n",
       "    </tr>\n",
       "    <tr>\n",
       "      <th>2020-01-06</th>\n",
       "      <td>30.102667</td>\n",
       "      <td>30.104000</td>\n",
       "      <td>29.333332</td>\n",
       "      <td>29.364668</td>\n",
       "      <td>151995000</td>\n",
       "      <td>NaN</td>\n",
       "    </tr>\n",
       "    <tr>\n",
       "      <th>2020-01-07</th>\n",
       "      <td>31.270666</td>\n",
       "      <td>31.441999</td>\n",
       "      <td>30.224001</td>\n",
       "      <td>30.760000</td>\n",
       "      <td>268231500</td>\n",
       "      <td>NaN</td>\n",
       "    </tr>\n",
       "    <tr>\n",
       "      <th>2020-01-08</th>\n",
       "      <td>32.809334</td>\n",
       "      <td>33.232666</td>\n",
       "      <td>31.215334</td>\n",
       "      <td>31.580000</td>\n",
       "      <td>467164500</td>\n",
       "      <td>NaN</td>\n",
       "    </tr>\n",
       "    <tr>\n",
       "      <th>2020-01-09</th>\n",
       "      <td>32.089333</td>\n",
       "      <td>33.253334</td>\n",
       "      <td>31.524668</td>\n",
       "      <td>33.139999</td>\n",
       "      <td>426606000</td>\n",
       "      <td>NaN</td>\n",
       "    </tr>\n",
       "    <tr>\n",
       "      <th>2020-01-10</th>\n",
       "      <td>31.876667</td>\n",
       "      <td>32.329334</td>\n",
       "      <td>31.580000</td>\n",
       "      <td>32.119331</td>\n",
       "      <td>194392500</td>\n",
       "      <td>NaN</td>\n",
       "    </tr>\n",
       "    <tr>\n",
       "      <th>2020-01-13</th>\n",
       "      <td>34.990665</td>\n",
       "      <td>35.042000</td>\n",
       "      <td>32.799999</td>\n",
       "      <td>32.900002</td>\n",
       "      <td>397764000</td>\n",
       "      <td>NaN</td>\n",
       "    </tr>\n",
       "    <tr>\n",
       "      <th>2020-01-14</th>\n",
       "      <td>35.861332</td>\n",
       "      <td>36.493999</td>\n",
       "      <td>34.993332</td>\n",
       "      <td>36.284000</td>\n",
       "      <td>434943000</td>\n",
       "      <td>NaN</td>\n",
       "    </tr>\n",
       "    <tr>\n",
       "      <th>2020-01-15</th>\n",
       "      <td>34.566666</td>\n",
       "      <td>35.855999</td>\n",
       "      <td>34.452667</td>\n",
       "      <td>35.317333</td>\n",
       "      <td>260532000</td>\n",
       "      <td>NaN</td>\n",
       "    </tr>\n",
       "    <tr>\n",
       "      <th>2020-01-16</th>\n",
       "      <td>34.232666</td>\n",
       "      <td>34.297333</td>\n",
       "      <td>32.811333</td>\n",
       "      <td>32.916668</td>\n",
       "      <td>326050500</td>\n",
       "      <td>NaN</td>\n",
       "    </tr>\n",
       "    <tr>\n",
       "      <th>2020-01-17</th>\n",
       "      <td>34.033333</td>\n",
       "      <td>34.377998</td>\n",
       "      <td>33.543999</td>\n",
       "      <td>33.840668</td>\n",
       "      <td>204436500</td>\n",
       "      <td>NaN</td>\n",
       "    </tr>\n",
       "    <tr>\n",
       "      <th>2020-01-21</th>\n",
       "      <td>36.480000</td>\n",
       "      <td>36.571999</td>\n",
       "      <td>35.227333</td>\n",
       "      <td>35.349998</td>\n",
       "      <td>267052500</td>\n",
       "      <td>NaN</td>\n",
       "    </tr>\n",
       "    <tr>\n",
       "      <th>2020-01-22</th>\n",
       "      <td>37.970669</td>\n",
       "      <td>39.633331</td>\n",
       "      <td>37.273335</td>\n",
       "      <td>38.125999</td>\n",
       "      <td>470535000</td>\n",
       "      <td>NaN</td>\n",
       "    </tr>\n",
       "    <tr>\n",
       "      <th>2020-01-23</th>\n",
       "      <td>38.146667</td>\n",
       "      <td>38.799999</td>\n",
       "      <td>37.040001</td>\n",
       "      <td>37.616669</td>\n",
       "      <td>294765000</td>\n",
       "      <td>NaN</td>\n",
       "    </tr>\n",
       "    <tr>\n",
       "      <th>2020-01-24</th>\n",
       "      <td>37.654667</td>\n",
       "      <td>38.257332</td>\n",
       "      <td>36.950668</td>\n",
       "      <td>38.042000</td>\n",
       "      <td>215304000</td>\n",
       "      <td>NaN</td>\n",
       "    </tr>\n",
       "    <tr>\n",
       "      <th>2020-01-27</th>\n",
       "      <td>37.201332</td>\n",
       "      <td>37.629333</td>\n",
       "      <td>35.952000</td>\n",
       "      <td>36.132668</td>\n",
       "      <td>204121500</td>\n",
       "      <td>NaN</td>\n",
       "    </tr>\n",
       "    <tr>\n",
       "      <th>2020-01-28</th>\n",
       "      <td>37.793331</td>\n",
       "      <td>38.453999</td>\n",
       "      <td>37.205334</td>\n",
       "      <td>37.899334</td>\n",
       "      <td>176827500</td>\n",
       "      <td>NaN</td>\n",
       "    </tr>\n",
       "    <tr>\n",
       "      <th>2020-01-29</th>\n",
       "      <td>38.732666</td>\n",
       "      <td>39.320000</td>\n",
       "      <td>37.828667</td>\n",
       "      <td>38.379333</td>\n",
       "      <td>267022500</td>\n",
       "      <td>NaN</td>\n",
       "    </tr>\n",
       "    <tr>\n",
       "      <th>2020-01-30</th>\n",
       "      <td>42.720669</td>\n",
       "      <td>43.391998</td>\n",
       "      <td>41.200001</td>\n",
       "      <td>42.161331</td>\n",
       "      <td>435085500</td>\n",
       "      <td>NaN</td>\n",
       "    </tr>\n",
       "    <tr>\n",
       "      <th>2020-01-31</th>\n",
       "      <td>43.371334</td>\n",
       "      <td>43.533333</td>\n",
       "      <td>42.167999</td>\n",
       "      <td>42.666668</td>\n",
       "      <td>235789500</td>\n",
       "      <td>NaN</td>\n",
       "    </tr>\n",
       "    <tr>\n",
       "      <th>2020-02-03</th>\n",
       "      <td>52.000000</td>\n",
       "      <td>52.409332</td>\n",
       "      <td>44.901333</td>\n",
       "      <td>44.912666</td>\n",
       "      <td>705975000</td>\n",
       "      <td>NaN</td>\n",
       "    </tr>\n",
       "    <tr>\n",
       "      <th>2020-02-04</th>\n",
       "      <td>59.137333</td>\n",
       "      <td>64.599335</td>\n",
       "      <td>55.591999</td>\n",
       "      <td>58.863998</td>\n",
       "      <td>914082000</td>\n",
       "      <td>NaN</td>\n",
       "    </tr>\n",
       "    <tr>\n",
       "      <th>2020-02-05</th>\n",
       "      <td>48.980000</td>\n",
       "      <td>56.398666</td>\n",
       "      <td>46.940666</td>\n",
       "      <td>54.883999</td>\n",
       "      <td>726357000</td>\n",
       "      <td>NaN</td>\n",
       "    </tr>\n",
       "    <tr>\n",
       "      <th>2020-02-06</th>\n",
       "      <td>49.930668</td>\n",
       "      <td>53.055332</td>\n",
       "      <td>45.799999</td>\n",
       "      <td>46.661331</td>\n",
       "      <td>598212000</td>\n",
       "      <td>NaN</td>\n",
       "    </tr>\n",
       "    <tr>\n",
       "      <th>2020-02-07</th>\n",
       "      <td>49.871334</td>\n",
       "      <td>51.316666</td>\n",
       "      <td>48.666668</td>\n",
       "      <td>48.703335</td>\n",
       "      <td>255952500</td>\n",
       "      <td>NaN</td>\n",
       "    </tr>\n",
       "    <tr>\n",
       "      <th>2020-02-10</th>\n",
       "      <td>51.418667</td>\n",
       "      <td>54.666000</td>\n",
       "      <td>50.160000</td>\n",
       "      <td>53.333332</td>\n",
       "      <td>370338000</td>\n",
       "      <td>NaN</td>\n",
       "    </tr>\n",
       "    <tr>\n",
       "      <th>2020-02-11</th>\n",
       "      <td>51.625332</td>\n",
       "      <td>52.234001</td>\n",
       "      <td>50.533333</td>\n",
       "      <td>51.252666</td>\n",
       "      <td>175462500</td>\n",
       "      <td>NaN</td>\n",
       "    </tr>\n",
       "    <tr>\n",
       "      <th>2020-02-12</th>\n",
       "      <td>51.152668</td>\n",
       "      <td>52.650002</td>\n",
       "      <td>50.891335</td>\n",
       "      <td>51.858002</td>\n",
       "      <td>180337500</td>\n",
       "      <td>NaN</td>\n",
       "    </tr>\n",
       "    <tr>\n",
       "      <th>2020-02-13</th>\n",
       "      <td>53.599998</td>\n",
       "      <td>54.533333</td>\n",
       "      <td>49.000000</td>\n",
       "      <td>49.456001</td>\n",
       "      <td>394339500</td>\n",
       "      <td>39.739622</td>\n",
       "    </tr>\n",
       "    <tr>\n",
       "      <th>2020-02-14</th>\n",
       "      <td>53.335335</td>\n",
       "      <td>54.198002</td>\n",
       "      <td>52.366669</td>\n",
       "      <td>52.481335</td>\n",
       "      <td>235405500</td>\n",
       "      <td>40.545667</td>\n",
       "    </tr>\n",
       "  </tbody>\n",
       "</table>\n",
       "</div>"
      ]
     },
     "execution_count": 67,
     "metadata": {},
     "output_type": "execute_result"
    }
   ],
   "execution_count": 67
  },
  {
   "cell_type": "code",
   "id": "ee4f2520",
   "metadata": {
    "ExecuteTime": {
     "end_time": "2025-04-16T20:28:23.483609Z",
     "start_time": "2025-04-16T20:28:23.432993Z"
    }
   },
   "source": [
    "df_tesla[['Open','Open:30 days rolling']].plot(figsize=(12,5))"
   ],
   "outputs": [
    {
     "data": {
      "text/plain": [
       "<Axes: xlabel='Date'>"
      ]
     },
     "execution_count": 68,
     "metadata": {},
     "output_type": "execute_result"
    }
   ],
   "execution_count": 68
  },
  {
   "cell_type": "markdown",
   "id": "10afd792",
   "metadata": {},
   "source": [
    "##Assignment\n",
    "##news\n",
    "1. Read the Microsoft Data using Pandas Data reader\n",
    "2. Get the maximum price of the share from 2017 to 2022\n",
    "3. Which is the date of the highest price of the stock?\n",
    "4. Which is the date of the lowest price of the stock?"
   ]
  }
 ],
 "metadata": {
  "kernelspec": {
   "display_name": "Python 3 (ipykernel)",
   "language": "python",
   "name": "python3"
  },
  "language_info": {
   "codemirror_mode": {
    "name": "ipython",
    "version": 3
   },
   "file_extension": ".py",
   "mimetype": "text/x-python",
   "name": "python",
   "nbconvert_exporter": "python",
   "pygments_lexer": "ipython3",
   "version": "3.9.7"
  }
 },
 "nbformat": 4,
 "nbformat_minor": 5
}
